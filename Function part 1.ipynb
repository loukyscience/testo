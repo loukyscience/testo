{
 "cells": [
  {
   "cell_type": "markdown",
   "id": "d63a0e49",
   "metadata": {},
   "source": [
    "In Python, functions serve as essential building blocks, allowing the organization of code into manageable and reusable segments. This notebook delves into the world of functions, exploring their syntax, defining and calling functions, utilizing parameters and return values, and showcasing the versatility they offer in problem-solving. With real-world examples and step-by-step explanations, this exploration aims to equip you with a solid understanding of functions, their importance, and their role in writing efficient and structured Python code."
   ]
  },
  {
   "cell_type": "markdown",
   "id": "092283a2",
   "metadata": {},
   "source": [
    "### Built-in vs. User-Defined Functions\n",
    "\n",
    "In Python, functions are essential for performing specific tasks. They can be broadly categorized as built-in functions, which are predefined in Python, and user-defined functions, which developers create based on specific requirements. The distinction between these two types of functions is crucial for understanding their roles and contributions to Python programming. \n",
    "\n",
    "```python\n",
    "# Example of a Built-in Function\n",
    "print(len([1, 2, 3]))  # Output: 3\n",
    "\n",
    "# Example of a User-Defined Function\n",
    "def greet(name):\n",
    "    return f\"Hello, {name}!\"\n",
    "\n",
    "print(greet(\"Hassan\"))  # Output: Hello, Alice!\n",
    "```"
   ]
  },
  {
   "cell_type": "code",
   "execution_count": 1,
   "id": "db8f6662",
   "metadata": {},
   "outputs": [
    {
     "name": "stdout",
     "output_type": "stream",
     "text": [
      "Hello, Hassan!\n"
     ]
    }
   ],
   "source": [
    "## try if by yourself..\n",
    "def greet(name):\n",
    "    return f\"Hello, {name}!\"\n",
    "\n",
    "print(greet(\"Hassan\"))"
   ]
  },
  {
   "cell_type": "markdown",
   "id": "981e2fa2",
   "metadata": {},
   "source": [
    "### Function Definition vs. Function Calling\n",
    "\n",
    "In Python, understanding the distinction between defining a function and calling it is fundamental. **Function Definition** involves outlining the code structure and behavior using the `def` keyword, a chosen function name, and the necessary parameters enclosed in parentheses. This defines the function but doesn't execute it.\n",
    "\n",
    "Conversely, **Function Calling** involves invoking the defined function by using its name along with parentheses containing the required arguments. This triggers the execution of the function's code block.\n",
    "\n",
    "```python\n",
    "# Function Definition\n",
    "def greet(name):\n",
    "    return f\"Hello, {name}!\"\n",
    "\n",
    "# Function Calling\n",
    "result = greet(\"Bob\")\n",
    "print(result)  # Output: Hello, Bob!\n",
    "```\n",
    "\n",
    "Understanding this distinction is crucial. Defining a function sets up its behavior, while calling it executes that behavior to perform the intended task."
   ]
  },
  {
   "cell_type": "code",
   "execution_count": 2,
   "id": "255f02b0",
   "metadata": {},
   "outputs": [
    {
     "name": "stdout",
     "output_type": "stream",
     "text": [
      "hello, khaled\n"
     ]
    }
   ],
   "source": [
    "## try it by yourself\n",
    "def greet(name):\n",
    "    return f\"hello, {name}\"\n",
    "result = greet(\"khaled\")\n",
    "print(result)"
   ]
  },
  {
   "cell_type": "markdown",
   "id": "0f03ef20",
   "metadata": {},
   "source": [
    "### Understanding Function Parameters\n",
    "\n",
    "Parameters in functions serve as placeholders for the data that needs to be operated on within the function. They provide a way to pass information to functions when they are called. In Python, parameters act as local variables within the function scope, containing the values passed during the function call.\n",
    "\n",
    "Let's consider a simple function for adding two numbers without using the `return` statement but instead utilizing `print` to display the result:\n",
    "\n",
    "```python\n",
    "def add_numbers(a, b):\n",
    "    sum_result = a + b\n",
    "    print(f\"The sum of {a} and {b} is: {sum_result}\")\n",
    "\n",
    "add_numbers(5, 7)  # Output: The sum of 5 and 7 is: 12\n",
    "```\n",
    "\n",
    "Here, `a` and `b` are parameters for the `add_numbers` function, representing the numbers to be added. These parameters act as placeholders, receiving the values `5` and `7` respectively when the function is called. The function then processes these values according to the defined logic. Parameters enable flexibility by allowing different values to be used each time the function is called."
   ]
  },
  {
   "cell_type": "code",
   "execution_count": 6,
   "id": "fce08eee",
   "metadata": {},
   "outputs": [
    {
     "name": "stdout",
     "output_type": "stream",
     "text": [
      "The sum of 5 and 7 is: 12\n"
     ]
    }
   ],
   "source": [
    "#try it by yourself..\n",
    "def  add_numbers(a, b):\n",
    "    sum_result = a + b\n",
    "    print(f\"The sum of {a} and {b} is: {sum_result}\")\n",
    "\n",
    "add_numbers(5, 7) "
   ]
  },
  {
   "cell_type": "markdown",
   "id": "84660727",
   "metadata": {},
   "source": [
    "###  Importance of Return Statements\n",
    "\n",
    "Let's modify the previous function to utilize the `return` statement instead of `print`. We'll capture the output of the function in a variable and examine the result, highlighting the significance of the `return` statement.\n",
    "\n",
    "```python\n",
    "def add_numbers(a, b):\n",
    "    sum_result = a + b\n",
    "    return sum_result\n",
    "\n",
    "result = add_numbers(5, 7)  # Assign the return value of function to 'result'\n",
    "print(result)  # Output: 12\n",
    "```\n",
    "\n",
    "In this updated function, `return` is used to send the computed sum back to the calling code. By storing the function's return value in the variable `result`, we can access and utilize this value elsewhere in the program. If the `return` statement is omitted, the function will default to returning `None`. \n",
    "\n",
    "This highlights the importance of using `return` within functions, as it enables functions to produce results that can be further manipulated or utilized in the program."
   ]
  },
  {
   "cell_type": "code",
   "execution_count": 3,
   "id": "dc68d165",
   "metadata": {},
   "outputs": [
    {
     "name": "stdout",
     "output_type": "stream",
     "text": [
      "12\n"
     ]
    }
   ],
   "source": [
    "# try it by yourself..\n",
    "def add_numbers(a, b):\n",
    "    sum_result = a + b\n",
    "    return sum_result\n",
    "\n",
    "result = add_numbers(5, 7)  # Assign the return value of function to 'result'\n",
    "print(result)  # Output: 12"
   ]
  },
  {
   "cell_type": "markdown",
   "id": "7b3f1eb3",
   "metadata": {},
   "source": [
    "###  Passing Parameters to Functions with defualt values\n",
    "\n",
    "Python allows sending parameters to functions directly in a straightforward manner. We can also assign default values to parameters, enabling the function to work without explicit arguments.\n",
    "\n",
    "```python\n",
    "def greet(name='Guest'):\n",
    "    print(f\"Hello, {name}!\")\n",
    "\n",
    "greet('Alice')  # Output: Hello, Alice!\n",
    "greet()  # Output: Hello, Guest!\n",
    "```\n",
    "\n",
    "Here, the `greet()` function takes a parameter `name` with a default value of `'Guest'`. When called without an argument (`greet()`), it uses the default value. Providing an argument (`greet('Alice')`) overrides the default value and uses the provided value instead. This flexibility simplifies function calls and ensures functionality even without explicitly passed arguments."
   ]
  },
  {
   "cell_type": "code",
   "execution_count": null,
   "id": "dc1d32bd",
   "metadata": {},
   "outputs": [],
   "source": [
    "# try it by yourself.."
   ]
  },
  {
   "cell_type": "markdown",
   "id": "0cbed874",
   "metadata": {},
   "source": [
    "### Keyword Parameters in Functions\n",
    "\n",
    "Python functions support keyword parameters, allowing arguments to be passed with their respective parameter names.\n",
    "\n",
    "```python\n",
    "def describe_person(name, age, gender):\n",
    "    print(f\"Name: {name}, Age: {age}, Gender: {gender}\")\n",
    "\n",
    "describe_person(age=25, name='Alice', gender='Female')\n",
    "# Output: Name: Alice, Age: 25, Gender: Female\n",
    "```\n",
    "\n",
    "By specifying the parameter names along with their values during the function call, the order of the arguments doesn't matter. Keyword parameters enhance code readability, especially with functions requiring numerous arguments."
   ]
  },
  {
   "cell_type": "code",
   "execution_count": null,
   "id": "76d382fd",
   "metadata": {},
   "outputs": [],
   "source": [
    "## try it by yourself.."
   ]
  },
  {
   "cell_type": "markdown",
   "id": "a4206839",
   "metadata": {},
   "source": [
    "### Positional and Keyword Parameters in Functions\n",
    "\n",
    "In Python, when calling a function that accepts both positional and keyword parameters, positional arguments must always precede keyword arguments.\n",
    "\n",
    "```python\n",
    "def describe_pet(animal_type, pet_name):\n",
    "    print(f\"I have a {animal_type}. Its name is {pet_name}.\")\n",
    "\n",
    "# Positional parameters\n",
    "describe_pet('dog', 'Buddy')\n",
    "\n",
    "# Positional and keyword parameters\n",
    "describe_pet('cat', pet_name='Smokey')  # Valid\n",
    "# describe_pet(animal_type='fish', 'Nemo')  # Invalid: positional argument follows keyword argument\n",
    "```\n",
    "\n",
    "When using both types of parameters, ensure that positional arguments come before keyword arguments to avoid syntax errors."
   ]
  },
  {
   "cell_type": "code",
   "execution_count": 5,
   "id": "755c023d",
   "metadata": {},
   "outputs": [
    {
     "name": "stdout",
     "output_type": "stream",
     "text": [
      "I have a dog. Its name is Buddy.\n",
      "I have a cat. Its name is Smokey.\n"
     ]
    }
   ],
   "source": [
    "## try it by yourself..\n",
    "def describe_pet(animal_type, pet_name):\n",
    "    print(f\"I have a {animal_type}. Its name is {pet_name}.\")\n",
    "\n",
    "# Positional parameters\n",
    "describe_pet('dog', 'Buddy')\n",
    "\n",
    "# Positional and keyword parameters\n",
    "describe_pet('cat', pet_name='Smokey')  # Valid\n",
    "# describe_pet(animal_type='fish', 'Nemo')\n"
   ]
  },
  {
   "cell_type": "markdown",
   "id": "b363d68b",
   "metadata": {},
   "source": [
    "### Variable-Length Positional Parameters\n",
    "\n",
    "In Python, the use of `*args` allows functions to accept an arbitrary number of positional arguments. This is helpful when the number of parameters passed to a function is unknown or variable.\n",
    "\n",
    "```python\n",
    "def sum_values(*args):\n",
    "    total = sum(args)\n",
    "    return total\n",
    "\n",
    "result = sum_values(1, 2, 3, 4, 5)\n",
    "print(result)  # Output: 15\n",
    "```\n",
    "\n",
    "The `*args` syntax collects any number of positional arguments into a tuple named `args`, allowing flexible handling of varying numbers of inputs within the function."
   ]
  },
  {
   "cell_type": "code",
   "execution_count": null,
   "id": "8c603413",
   "metadata": {},
   "outputs": [],
   "source": [
    "## try it by yourself..."
   ]
  },
  {
   "cell_type": "markdown",
   "id": "81bd6402",
   "metadata": {},
   "source": [
    "### Variable-Length Keyword Parameters\n",
    "\n",
    "Similarly, Python allows the use of `**kwargs` to accept an arbitrary number of keyword arguments in a function. This is particularly useful when dealing with functions that take a variable number of named parameters.\n",
    "\n",
    "```python\n",
    "def display_info(**kwargs):\n",
    "    for key, value in kwargs.items():\n",
    "        print(f\"{key}: {value}\")\n",
    "\n",
    "display_info(name='Alice', age=30, city='New York')\n",
    "# Output:\n",
    "# name: Alice\n",
    "# age: 30\n",
    "# city: New York\n",
    "```\n",
    "\n",
    "The `**kwargs` syntax collects any number of keyword arguments into a dictionary named `kwargs`, providing flexibility in handling various named parameters within the function."
   ]
  },
  {
   "cell_type": "code",
   "execution_count": null,
   "id": "fe184297",
   "metadata": {},
   "outputs": [],
   "source": [
    "## try it by yourself.."
   ]
  },
  {
   "cell_type": "markdown",
   "id": "af5f0f8b",
   "metadata": {},
   "source": [
    "### Documentation Strings (Docstrings)\n",
    "\n",
    "In Python, docstrings are used to describe what a function does. They are placed as the first statement within a function definition and enclosed in triple quotes (`''' '''` or `\"\"\" \"\"\"`). Docstrings are optional but highly recommended as they help other developers understand the purpose of the function.\n",
    "\n",
    "```python\n",
    "def greet(name):\n",
    "    '''This function greets the person with the given name.'''\n",
    "    print(f\"Hello, {name}!\")\n",
    "\n",
    "# Accessing the docstring\n",
    "print(greet.__doc__)\n",
    "# Output: This function greets the person with the given name.\n",
    "```\n",
    "\n",
    "Docstrings can be accessed using the `__doc__` attribute of the function and are an essential part of writing clear, understandable, and well-documented code."
   ]
  },
  {
   "cell_type": "code",
   "execution_count": null,
   "id": "58eb17d9",
   "metadata": {},
   "outputs": [],
   "source": [
    "## try it by yourself.."
   ]
  },
  {
   "cell_type": "markdown",
   "id": "4bf97af9",
   "metadata": {},
   "source": [
    "In this notebook, we learned about functions in Python. We started by understanding how functions are different: some are already available in Python, while others we create ourselves. We explored how to define and use functions, looking at parameters and how they work when we call a function. We also saw how to handle different kinds of parameters, like those with default values or those that can take many values. Additionally, we learned about the importance of writing clear descriptions for functions. In the next notebook, we'll continue learning more about functions, including something called lambda functions, and discover more ways to use them in Python."
   ]
  }
 ],
 "metadata": {
  "kernelspec": {
   "display_name": "Python 3 (ipykernel)",
   "language": "python",
   "name": "python3"
  },
  "language_info": {
   "codemirror_mode": {
    "name": "ipython",
    "version": 3
   },
   "file_extension": ".py",
   "mimetype": "text/x-python",
   "name": "python",
   "nbconvert_exporter": "python",
   "pygments_lexer": "ipython3",
   "version": "3.11.5"
  }
 },
 "nbformat": 4,
 "nbformat_minor": 5
}
