{
 "cells": [
  {
   "cell_type": "code",
   "execution_count": null,
   "id": "f2aca8fc",
   "metadata": {},
   "outputs": [],
   "source": [
    "  def say_hello(name):\n",
    "    print(f\"hello {name}\")\n",
    "input(say_hello(\"name\")) "
   ]
  },
  {
   "cell_type": "code",
   "execution_count": null,
   "id": "aef97ae5",
   "metadata": {},
   "outputs": [],
   "source": []
  },
  {
   "cell_type": "code",
   "execution_count": null,
   "id": "ab68e527",
   "metadata": {},
   "outputs": [],
   "source": []
  }
 ],
 "metadata": {
  "kernelspec": {
   "display_name": "Python 3 (ipykernel)",
   "language": "python",
   "name": "python3"
  },
  "language_info": {
   "codemirror_mode": {
    "name": "ipython",
    "version": 3
   },
   "file_extension": ".py",
   "mimetype": "text/x-python",
   "name": "python",
   "nbconvert_exporter": "python",
   "pygments_lexer": "ipython3",
   "version": "3.11.5"
  }
 },
 "nbformat": 4,
 "nbformat_minor": 5
}
